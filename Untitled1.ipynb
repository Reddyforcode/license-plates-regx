{
 "cells": [
  {
   "cell_type": "code",
   "execution_count": 10,
   "metadata": {},
   "outputs": [],
   "source": [
    "f= open(\"1.txt\",\"w+\")\n",
    "\n",
    "f.write(\"line 1\")\n",
    "\n",
    "f.close() \n"
   ]
  },
  {
   "cell_type": "code",
   "execution_count": 13,
   "metadata": {},
   "outputs": [],
   "source": [
    "f= open(\"1.txt\",\"w+\")\n",
    "\n",
    "list_plates = ['1zc004','1zc004','1zc00','12c004','1zc004','1zc00','1zcd0','1zc004','1zc00','12c004','1zcd04','11zc004','1zc004','1zc004','1zc00','1zc004','12cd0','112cd0','1zc00','12c004','12c004','12c00','1zc004','1zc004','1zc004','1zc004','1zc004','1zc004','12cd0','1zc00','1zc004','11zcd0','12c004','12c004','1zc00','12c00','12c00','1zcd0','12c004','12c00','1zc004','1zc00','1zc004','1zc00','1zc004','12cd04','12c00','1zc004','1zc00','1zc00'\n",
    ",'1zc004','1zc00','1zc00','1zc00','1zc004','12c0041','1zc00','1zcd0','1zc00','1zc00','12c004','12cd04','12cd04','1zcd04', '1zcd04']\n",
    "\n",
    "f.write(str(list_plates))\n",
    "\n",
    "f.close() \n",
    "\n"
   ]
  },
  {
   "cell_type": "code",
   "execution_count": 12,
   "metadata": {},
   "outputs": [],
   "source": [
    "f=open(\"guru99.txt\", \"a+\")\n",
    "f.write(\"line 3\")\n",
    "f.close()"
   ]
  },
  {
   "cell_type": "code",
   "execution_count": null,
   "metadata": {},
   "outputs": [],
   "source": []
  }
 ],
 "metadata": {
  "kernelspec": {
   "display_name": "Python 3",
   "language": "python",
   "name": "python3"
  },
  "language_info": {
   "codemirror_mode": {
    "name": "ipython",
    "version": 3
   },
   "file_extension": ".py",
   "mimetype": "text/x-python",
   "name": "python",
   "nbconvert_exporter": "python",
   "pygments_lexer": "ipython3",
   "version": "3.7.3"
  }
 },
 "nbformat": 4,
 "nbformat_minor": 2
}
