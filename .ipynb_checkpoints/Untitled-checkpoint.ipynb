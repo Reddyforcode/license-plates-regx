{
 "cells": [
  {
   "cell_type": "code",
   "execution_count": 100,
   "metadata": {},
   "outputs": [],
   "source": [
    "#a.get('a', default = None)\n",
    "\n",
    "\n",
    "list_plates = ['1zc004','1zc004','1zc00','12c004','1zc004','1zc00','1zcd0','1zc004','1zc00','12c004','1zcd04','11zc004','1zc004','1zc004','1zc00','1zc004','12cd0','112cd0','1zc00','12c004','12c004','12c00','1zc004','1zc004','1zc004','1zc004','1zc004','1zc004','12cd0','1zc00','1zc004','11zcd0','12c004','12c004','1zc00','12c00','12c00','1zcd0','12c004','12c00','1zc004','1zc00','1zc004','1zc00','1zc004','12cd04','12c00','1zc004','1zc00','1zc00'\n",
    ",'1zc004','1zc00','1zc00','1zc00','1zc004','12c0041','1zc00','1zcd0','1zc00','1zc00','12c004','12cd04','12cd04','1zcd04', '1zcd04']\n",
    "\n",
    "    \n",
    "dict = {}\n",
    "for plate in list_plates:\n",
    "    if(plate in dict):\n",
    "        dict[plate] = dict[plate] + 1\n",
    "    else:\n",
    "        dict[plate] = 1\n",
    "        "
   ]
  },
  {
   "cell_type": "code",
   "execution_count": 60,
   "metadata": {},
   "outputs": [
    {
     "name": "stdout",
     "output_type": "stream",
     "text": [
      "{'1zc004': 20, '1zc00': 17, '12c004': 8, '1zcd0': 3, '1zcd04': 3, '11zc004': 1, '12cd0': 2, '112cd0': 1, '12c00': 5, '11zcd0': 1, '12cd04': 3, '12c0041': 1}\n"
     ]
    }
   ],
   "source": [
    "print(dict)"
   ]
  },
  {
   "cell_type": "code",
   "execution_count": 61,
   "metadata": {},
   "outputs": [
    {
     "name": "stdout",
     "output_type": "stream",
     "text": [
      "[1, 1, 1, 1, 2, 3, 3, 3, 5, 8, 17, 20]\n"
     ]
    }
   ],
   "source": [
    "print(sorted(dict.values()))"
   ]
  },
  {
   "cell_type": "code",
   "execution_count": 71,
   "metadata": {},
   "outputs": [
    {
     "name": "stdout",
     "output_type": "stream",
     "text": [
      "['112cd0', '11zc004', '11zcd0', '12c00', '12c004', '12c0041', '12cd0', '12cd04', '1zc00', '1zc004', '1zcd0', '1zcd04']\n"
     ]
    },
    {
     "ename": "TypeError",
     "evalue": "'int' object is not iterable",
     "output_type": "error",
     "traceback": [
      "\u001b[0;31m---------------------------------------------------------------------------\u001b[0m",
      "\u001b[0;31mTypeError\u001b[0m                                 Traceback (most recent call last)",
      "\u001b[0;32m<ipython-input-71-21327e3ed06b>\u001b[0m in \u001b[0;36m<module>\u001b[0;34m\u001b[0m\n\u001b[1;32m      1\u001b[0m \u001b[0mprint\u001b[0m\u001b[0;34m(\u001b[0m\u001b[0msorted\u001b[0m\u001b[0;34m(\u001b[0m\u001b[0mdict\u001b[0m\u001b[0;34m)\u001b[0m\u001b[0;34m)\u001b[0m\u001b[0;34m\u001b[0m\u001b[0;34m\u001b[0m\u001b[0m\n\u001b[0;32m----> 2\u001b[0;31m \u001b[0mval\u001b[0m \u001b[0;34m=\u001b[0m \u001b[0msorted\u001b[0m\u001b[0;34m(\u001b[0m\u001b[0mlen\u001b[0m\u001b[0;34m(\u001b[0m\u001b[0mdict\u001b[0m\u001b[0;34m.\u001b[0m\u001b[0mvalues\u001b[0m\u001b[0;34m(\u001b[0m\u001b[0;34m)\u001b[0m\u001b[0;34m)\u001b[0m\u001b[0;34m)\u001b[0m\u001b[0;34m\u001b[0m\u001b[0;34m\u001b[0m\u001b[0m\n\u001b[0m",
      "\u001b[0;31mTypeError\u001b[0m: 'int' object is not iterable"
     ]
    }
   ],
   "source": [
    "print(sorted(dict))\n",
    "val = sorted(len(dict.values()))"
   ]
  },
  {
   "cell_type": "code",
   "execution_count": 63,
   "metadata": {},
   "outputs": [
    {
     "data": {
      "text/plain": [
       "8"
      ]
     },
     "execution_count": 63,
     "metadata": {},
     "output_type": "execute_result"
    }
   ],
   "source": [
    "dict['12c004']"
   ]
  },
  {
   "cell_type": "code",
   "execution_count": 72,
   "metadata": {},
   "outputs": [
    {
     "name": "stdout",
     "output_type": "stream",
     "text": [
      "112cd0  \t 6\n",
      "11zc004  \t 7\n",
      "11zcd0  \t 6\n",
      "12c00  \t 5\n",
      "12c004  \t 6\n",
      "12c0041  \t 7\n",
      "12cd0  \t 5\n",
      "12cd04  \t 6\n",
      "1zc00  \t 5\n",
      "1zc004  \t 6\n",
      "1zcd0  \t 5\n",
      "1zcd04  \t 6\n"
     ]
    }
   ],
   "source": [
    "\n",
    "for i in val:\n",
    "    print(i, \" \\t\", len(i))"
   ]
  },
  {
   "cell_type": "code",
   "execution_count": null,
   "metadata": {},
   "outputs": [],
   "source": []
  },
  {
   "cell_type": "code",
   "execution_count": 95,
   "metadata": {},
   "outputs": [
    {
     "name": "stdout",
     "output_type": "stream",
     "text": [
      "LCS of hola and lamunfdo is la\n"
     ]
    }
   ],
   "source": [
    "def lcs(X, Y, m, n): \n",
    "    L = [[0 for x in range(n+1)] for x in range(m+1)] \n",
    "  \n",
    "    # Following steps build L[m+1][n+1] in bottom up fashion. Note \n",
    "    # that L[i][j] contains length of LCS of X[0..i-1] and Y[0..j-1]  \n",
    "    for i in range(m+1): \n",
    "        for j in range(n+1): \n",
    "            if i == 0 or j == 0: \n",
    "                L[i][j] = 0\n",
    "            elif X[i-1] == Y[j-1]: \n",
    "                L[i][j] = L[i-1][j-1] + 1\n",
    "            else: \n",
    "                L[i][j] = max(L[i-1][j], L[i][j-1]) \n",
    "  \n",
    "    # Following code is used to print LCS \n",
    "    index = L[m][n] \n",
    "  \n",
    "    # Create a character array to store the lcs string \n",
    "    lcs = [\"\"] * (index+1) \n",
    "    lcs[index] = \"\" \n",
    "  \n",
    "    # Start from the right-most-bottom-most corner and \n",
    "    # one by one store characters in lcs[] \n",
    "    i = m \n",
    "    j = n \n",
    "    while (i > 0 and j > 0): \n",
    "  \n",
    "        # If current character in X[] and Y are same, then \n",
    "        # current character is part of LCS \n",
    "        if X[i-1] == Y[j-1]: \n",
    "            lcs[index-1] = X[i-1] \n",
    "            i-=1\n",
    "            j-=1\n",
    "            index-=1\n",
    "  \n",
    "        # If not same, then find the larger of two and \n",
    "        # go in the direction of larger value \n",
    "        elif L[i-1][j] > L[i][j-1]: \n",
    "            i-=1\n",
    "        else: \n",
    "            j-=1\n",
    "  \n",
    "    print (\"LCS of \" + X + \" and \" + Y + \" is \" + \"\".join(lcs))\n",
    "  \n",
    "# Driver program \n",
    "X = \"hola\"\n",
    "Y = \"lamunfdo\"\n",
    "m = len(X) \n",
    "n = len(Y) \n",
    "lcs(X, Y, m, n) \n",
    "  \n",
    "# This code is contributed by BHAVYA JAIN "
   ]
  },
  {
   "cell_type": "code",
   "execution_count": 85,
   "metadata": {},
   "outputs": [
    {
     "name": "stdout",
     "output_type": "stream",
     "text": [
      "<class 'int'>\n",
      "Length of Longest Common Substring is 10\n"
     ]
    }
   ],
   "source": [
    "X = 'OldSite:GeeksforGeeks.org'\n",
    "Y = 'NewSite:GeeksQuiz.com'\n",
    "  \n",
    "m = len(X) \n",
    "n = len(Y) \n",
    "  \n",
    "print('Length of Longest Common Substring is', LCSubStr(X, Y, m, n))"
   ]
  },
  {
   "cell_type": "code",
   "execution_count": null,
   "metadata": {},
   "outputs": [],
   "source": []
  },
  {
   "cell_type": "code",
   "execution_count": 109,
   "metadata": {},
   "outputs": [
    {
     "name": "stdout",
     "output_type": "stream",
     "text": [
      "dict_keys(['1zc004', '1zc00', '12c004', '1zcd0', '1zcd04', '11zc004', '12cd0', '112cd0', '12c00', '11zcd0', '12cd04', '12c0041'])\n",
      "1\n"
     ]
    }
   ],
   "source": [
    "def findstem(arr): \n",
    "  \n",
    "    # Determine size of the array \n",
    "    n = len(arr) \n",
    "  \n",
    "    # Take first word from array  \n",
    "    # as reference \n",
    "    s = arr[0] \n",
    "    l = len(s) \n",
    "  \n",
    "    res = \"\" \n",
    "  \n",
    "    for i in range( l) : \n",
    "        for j in range( i + 1, l + 1) : \n",
    "  \n",
    "            # generating all possible substrings \n",
    "            # of our reference string arr[0] i.e s \n",
    "            stem = s[i:j] \n",
    "            k = 1\n",
    "            for k in range(1, n):  \n",
    "  \n",
    "                # Check if the generated stem is \n",
    "                # common to to all words \n",
    "                if stem not in arr[k]: \n",
    "                    break\n",
    "              \n",
    "            # If current substring is present in \n",
    "            # all strings and its length is greater  \n",
    "            # than current result \n",
    "            if (k + 1 == n and len(res) < len(stem)): \n",
    "                res = stem \n",
    "  \n",
    "    return res \n",
    "  \n",
    "# Driver Code \n",
    "if __name__ == \"__main__\": \n",
    "    print(dict.keys())\n",
    "    arr = list(dict.keys())\n",
    "    stems = findstem(arr) \n",
    "    print(stems) \n",
    "  \n",
    "# This code is contributed by ita_c "
   ]
  },
  {
   "cell_type": "code",
   "execution_count": 188,
   "metadata": {},
   "outputs": [],
   "source": [
    "def isNumber(c):\n",
    "    return True if (c<='9' and c>='0') else False\n",
    "    \n",
    "def isLetter(c):\n",
    "    c = c.lower() if (c.isupper()) else c\n",
    "    #print(c)\n",
    "    return True if (c<='z' and c>='a' \"\"\"or (c <='Z' and c >= 'A')\"\"\") else False\n",
    "dict_reemplazo_number = {'o':'0', 'i':'1', 'z':'2', 'a':'4', 's':'5', 'g':'6', 't':'7', 'b': '8'}\n",
    "\n",
    "def isBetweenNumbers(ss, i):\n",
    "    if (i == 0 and len(ss)>3):\n",
    "        return True if (isNumber(ss[i+1])and isNumber(ss[i+2])) else False\n",
    "    else:\n",
    "        return True if (isNumber(ss[i-1]) and isNumber(ss[i+1])) else False\n",
    "def process_results(ss):\n",
    "    value = \"\"\n",
    "    ss = list(ss)\n",
    "    for i in range(len(ss)):\n",
    "        #if(isLetter(ss[i-1])):\n",
    "        if (isBetweenNumbers(ss, i)):\n",
    "            ss[i] = dict_reemplazo_number[ss[i]] if ss[i] in dict_reemplazo_number else ss[i]\n",
    "        value = value + str(ss[i])\n",
    "    return value"
   ]
  },
  {
   "cell_type": "code",
   "execution_count": 189,
   "metadata": {},
   "outputs": [
    {
     "ename": "TypeError",
     "evalue": "'str' object does not support item assignment",
     "output_type": "error",
     "traceback": [
      "\u001b[0;31m---------------------------------------------------------------------------\u001b[0m",
      "\u001b[0;31mTypeError\u001b[0m                                 Traceback (most recent call last)",
      "\u001b[0;32m<ipython-input-189-48f797819bb4>\u001b[0m in \u001b[0;36m<module>\u001b[0;34m\u001b[0m\n\u001b[0;32m----> 1\u001b[0;31m \u001b[0mvalue\u001b[0m \u001b[0;34m=\u001b[0m \u001b[0mprocess_results\u001b[0m\u001b[0;34m(\u001b[0m\u001b[0;34m\"f1234\"\u001b[0m\u001b[0;34m)\u001b[0m\u001b[0;34m\u001b[0m\u001b[0;34m\u001b[0m\u001b[0m\n\u001b[0m",
      "\u001b[0;32m<ipython-input-188-efd964509077>\u001b[0m in \u001b[0;36mprocess_results\u001b[0;34m(ss)\u001b[0m\n\u001b[1;32m     18\u001b[0m         \u001b[0;31m#if(isLetter(ss[i-1])):\u001b[0m\u001b[0;34m\u001b[0m\u001b[0;34m\u001b[0m\u001b[0;34m\u001b[0m\u001b[0m\n\u001b[1;32m     19\u001b[0m         \u001b[0;32mif\u001b[0m \u001b[0;34m(\u001b[0m\u001b[0misBetweenNumbers\u001b[0m\u001b[0;34m(\u001b[0m\u001b[0mss\u001b[0m\u001b[0;34m,\u001b[0m \u001b[0mi\u001b[0m\u001b[0;34m)\u001b[0m\u001b[0;34m)\u001b[0m\u001b[0;34m:\u001b[0m\u001b[0;34m\u001b[0m\u001b[0;34m\u001b[0m\u001b[0m\n\u001b[0;32m---> 20\u001b[0;31m             \u001b[0mss\u001b[0m\u001b[0;34m[\u001b[0m\u001b[0mi\u001b[0m\u001b[0;34m]\u001b[0m \u001b[0;34m=\u001b[0m \u001b[0mdict_reemplazo_number\u001b[0m\u001b[0;34m[\u001b[0m\u001b[0mss\u001b[0m\u001b[0;34m[\u001b[0m\u001b[0mi\u001b[0m\u001b[0;34m]\u001b[0m\u001b[0;34m]\u001b[0m \u001b[0;32mif\u001b[0m \u001b[0mss\u001b[0m\u001b[0;34m[\u001b[0m\u001b[0mi\u001b[0m\u001b[0;34m]\u001b[0m \u001b[0;32min\u001b[0m \u001b[0mdict_reemplazo_number\u001b[0m \u001b[0;32melse\u001b[0m \u001b[0mss\u001b[0m\u001b[0;34m[\u001b[0m\u001b[0mi\u001b[0m\u001b[0;34m]\u001b[0m\u001b[0;34m\u001b[0m\u001b[0;34m\u001b[0m\u001b[0m\n\u001b[0m\u001b[1;32m     21\u001b[0m         \u001b[0mvalue\u001b[0m \u001b[0;34m=\u001b[0m \u001b[0mvalue\u001b[0m \u001b[0;34m+\u001b[0m \u001b[0mss\u001b[0m\u001b[0;34m[\u001b[0m\u001b[0mi\u001b[0m\u001b[0;34m]\u001b[0m\u001b[0;34m\u001b[0m\u001b[0;34m\u001b[0m\u001b[0m\n\u001b[1;32m     22\u001b[0m     \u001b[0;32mreturn\u001b[0m \u001b[0mvalue\u001b[0m\u001b[0;34m\u001b[0m\u001b[0;34m\u001b[0m\u001b[0m\n",
      "\u001b[0;31mTypeError\u001b[0m: 'str' object does not support item assignment"
     ]
    }
   ],
   "source": [
    "value = process_results(\"f1234\")"
   ]
  },
  {
   "cell_type": "code",
   "execution_count": 117,
   "metadata": {},
   "outputs": [
    {
     "data": {
      "text/plain": [
       "'holo'"
      ]
     },
     "execution_count": 117,
     "metadata": {},
     "output_type": "execute_result"
    }
   ],
   "source": [
    "value\n"
   ]
  }
 ],
 "metadata": {
  "kernelspec": {
   "display_name": "Python 3",
   "language": "python",
   "name": "python3"
  },
  "language_info": {
   "codemirror_mode": {
    "name": "ipython",
    "version": 3
   },
   "file_extension": ".py",
   "mimetype": "text/x-python",
   "name": "python",
   "nbconvert_exporter": "python",
   "pygments_lexer": "ipython3",
   "version": "3.7.3"
  }
 },
 "nbformat": 4,
 "nbformat_minor": 2
}
